{
  "cells": [
    {
      "cell_type": "code",
      "execution_count": 4,
      "metadata": {
        "collapsed": true,
        "id": "h6EAJo3UZPIL"
      },
      "outputs": [],
      "source": [
        "%matplotlib inline\n",
        "import math\n",
        "import numpy as np\n",
        "from matplotlib import pyplot as plt"
      ]
    },
    {
      "cell_type": "markdown",
      "metadata": {
        "id": "XpKax4aiZPIO"
      },
      "source": [
        "# Homework"
      ]
    },
    {
      "cell_type": "markdown",
      "metadata": {
        "id": "Nc7yPXxlZPIP"
      },
      "source": [
        "---\n",
        "\n",
        "## Problem 1\n",
        "\n",
        "Find the solution to $x = e^{-x}$ accurate to $10^{-6}$ using the bisection method.\n",
        "\n",
        "Choose an initial bound from the options below and explain why the other is not suitable:\n",
        "- Bound A: $(-1, 0)$\n",
        "- Bound B: $(0, 1)$"
      ]
    },
    {
      "cell_type": "code",
      "source": [
        "Use Bound (0,1) because f(0) and f(1) have opposite signs, ensuring a root inside.Bound A is not suitable since f(-1) and f(0) are both negative."
      ],
      "metadata": {
        "id": "2X8BlPVmawEz"
      },
      "execution_count": null,
      "outputs": []
    },
    {
      "cell_type": "markdown",
      "metadata": {
        "id": "4QLWEnu-ZPIP"
      },
      "source": [
        "---\n",
        "## Problem 2\n",
        "\n",
        "Find all values of $x$ in $[0, 1]$ such that $f(x) = 0$, where\n",
        "\n",
        "$$\n",
        "f(x) = -0.000216747 + 0.0072868x - 0.0977383x^2 + 0.664685x^3 - 2.40773x^4 + 4.46766x^5 - 3.7091x^6 + x^7\n",
        "$$\n",
        "\n",
        "Your answers should be accurate to within $10^{-6}$ of the true solution."
      ]
    },
    {
      "cell_type": "code",
      "execution_count": 5,
      "metadata": {
        "collapsed": true,
        "id": "kVeXBvdNZPIQ"
      },
      "outputs": [],
      "source": [
        "def f(x):\n",
        "    return -0.000216747 + 0.0072868*x - 0.0977383*x**2 + 0.664685*x**3 - \\\n",
        "            2.40773*x**4 + 4.46766*x**5 - 3.7091*x**6 + x**7\n"
      ]
    },
    {
      "cell_type": "markdown",
      "metadata": {
        "id": "tAxtshaNZPIQ"
      },
      "source": [
        "2.1) Find all local minima and maxima of the function $f(x)$ defined above. Briefly explain how you determine whether a point is a local maximum or minimum."
      ]
    },
    {
      "cell_type": "code",
      "execution_count": 9,
      "metadata": {
        "collapsed": true,
        "colab": {
          "base_uri": "https://localhost:8080/"
        },
        "id": "IWy39oDbZPIQ",
        "outputId": "7c6afd20-3ea1-4ee1-ec16-92e5df2dda3a"
      },
      "outputs": [
        {
          "output_type": "stream",
          "name": "stdout",
          "text": [
            "Critical point at x = 0.191367, f(x) = 0.000001, f''(x) = -0.002629 → Local Maximum\n",
            "Critical point at x = 0.297091, f(x) = -0.000012, f''(x) = 0.012575 → Local Minimum\n",
            "Critical point at x = 0.681781, f(x) = 0.003826, f''(x) = -0.444725 → Local Maximum\n"
          ]
        }
      ],
      "source": [
        "import numpy as np\n",
        "import sympy as sp\n",
        "\n",
        "x = sp.symbols('x')\n",
        "\n",
        "f = -0.000216747 + 0.0072868*x - 0.0977383*x**2 + 0.664685*x**3 - \\\n",
        "    2.40773*x**4 + 4.46766*x**5 - 3.7091*x**6 + x**7\n",
        "f_prime = sp.diff(f, x)\n",
        "\n",
        "f_double_prime = sp.diff(f_prime, x)\n",
        "\n",
        "critical_points = sp.solveset(f_prime, x, domain=sp.Interval(0, 1))\n",
        "\n",
        "classifications = []\n",
        "for point in critical_points:\n",
        "\n",
        "    f_double_prime_value = f_double_prime.subs(x, point)\n",
        "\n",
        "    if f_double_prime_value > 0:\n",
        "        classification = \"Local Minimum\"\n",
        "    elif f_double_prime_value < 0:\n",
        "        classification = \"Local Maximum\"\n",
        "    else:\n",
        "        classification = \"Inconclusive (possible inflection)\"\n",
        "\n",
        "    classifications.append((point, f.subs(x, point), f_double_prime_value, classification))\n",
        "\n",
        "for point, value, second_derivative, classification in classifications:\n",
        "    print(f\"Critical point at x = {point:.6f}, f(x) = {value:.6f}, f''(x) = {second_derivative:.6f} → {classification}\")\n"
      ]
    },
    {
      "cell_type": "markdown",
      "source": [
        "We find the critical points where the first derivative f'(x) is equal to 0. This indicates potential maxima, minima, or saddle points. Once we have the critical points, we compute the second derivative f''(x) of the fucntion."
      ],
      "metadata": {
        "id": "aBxSswjkgsDa"
      }
    },
    {
      "cell_type": "markdown",
      "metadata": {
        "id": "I9DtuiWbZPIR"
      },
      "source": [
        "2.2) Identify the global maximum and global minimum of the function $f(x)$ within the interval $x \\in [0, 1]$."
      ]
    },
    {
      "cell_type": "code",
      "execution_count": 10,
      "metadata": {
        "collapsed": true,
        "colab": {
          "base_uri": "https://localhost:8080/"
        },
        "id": "0lbzRr1XZPIR",
        "outputId": "aede9e7f-1897-46ab-a3e2-930f616f6f92"
      },
      "outputs": [
        {
          "output_type": "stream",
          "name": "stdout",
          "text": [
            "Global Maximum at x = 0.681781, f(x) = 0.003826\n",
            "Global Minimum at x = 1.000000, f(x) = -0.075153\n"
          ]
        }
      ],
      "source": [
        "\n",
        "x = sp.symbols('x')\n",
        "\n",
        "f = -0.000216747 + 0.0072868*x - 0.0977383*x**2 + 0.664685*x**3 - \\\n",
        "    2.40773*x**4 + 4.46766*x**5 - 3.7091*x**6 + x**7\n",
        "\n",
        "f_prime = sp.diff(f, x)\n",
        "\n",
        "critical_points = sp.solveset(f_prime, x, domain=sp.Interval(0, 1))\n",
        "\n",
        "candidates = [0, 1] + list(critical_points)\n",
        "function_values = [f.subs(x, point) for point in candidates]\n",
        "\n",
        "global_max = max(function_values)\n",
        "global_min = min(function_values)\n",
        "\n",
        "max_index = function_values.index(global_max)\n",
        "min_index = function_values.index(global_min)\n",
        "\n",
        "global_max_x = candidates[max_index]\n",
        "global_min_x = candidates[min_index]\n",
        "\n",
        "print(f\"Global Maximum at x = {global_max_x:.6f}, f(x) = {global_max:.6f}\")\n",
        "print(f\"Global Minimum at x = {global_min_x:.6f}, f(x) = {global_min:.6f}\")\n"
      ]
    },
    {
      "cell_type": "markdown",
      "metadata": {
        "id": "itnv6Dv0ZPIR"
      },
      "source": [
        "---\n",
        "## Problem 3: Bound States in a Finite Potential Well\n",
        "In quantum physics, the bound state energies for a finite potential well are found by solving the following equation (where $E$ is negative):\n",
        "\n",
        "$$\n",
        "\\sqrt{\\frac{-E}{E+V_0}} = \\tan \\left( \\sqrt{2m \\frac{E+V_0}{\\hbar^2} a} \\right)\n",
        "$$\n",
        "\n",
        "Your task is to find all energy values $E$ that satisfy this equation.\n",
        "For this problem, use the following simplified parameters (natural units):\n",
        "- $V_0 = 1$\n",
        "- $m = 1$\n",
        "- $a = 1$\n",
        "- $\\hbar = 1$\n",
        "\n",
        "This reduces the equation to:\n",
        "\n",
        "$$\n",
        "\\sqrt{\\frac{-E}{E+1}} = \\tan \\left( \\sqrt{2(E+1)} \\right)\n",
        "$$\n",
        "\n",
        "Instructions:\n",
        "- Find all values of $E$ in the interval $(-1.0, 0)$ that satisfy the equation above.\n",
        "- Your answers should be accurate to within $\\pm 10^{-4}$.\n",
        "- Briefly describe your numerical approach (e.g., root-finding method) before providing any code.\n"
      ]
    },
    {
      "cell_type": "code",
      "execution_count": 11,
      "metadata": {
        "colab": {
          "base_uri": "https://localhost:8080/",
          "height": 385
        },
        "id": "DTrhiGuIZPIS",
        "outputId": "7eba691f-c598-4a8a-a23f-40ebdad51471"
      },
      "outputs": [
        {
          "output_type": "display_data",
          "data": {
            "text/plain": [
              "<Figure size 800x500 with 1 Axes>"
            ],
            "image/png": "[encoded data removed]"
          },
          "metadata": {}
        }
      ],
      "source": [
        "# Plot the functions for Problem 3\n",
        "def f(x):\n",
        "    return math.sqrt(-x/(x+1))\n",
        "def g(x):\n",
        "    return math.tan(math.sqrt(2*(x + 1)))\n",
        "\n",
        "xs = np.linspace(-0.999, -0.1, 400)\n",
        "fx = [f(x) for x in xs]\n",
        "gx = [g(x) for x in xs]\n",
        "\n",
        "plt.figure(figsize=(8, 5))\n",
        "plt.plot(xs, fx, label=r'$\\sqrt{\\frac{-E}{E+1}}$')\n",
        "plt.plot(xs, gx, label=r'$\\tan(\\sqrt{2(E+1)})$')\n",
        "plt.xlabel(r'$E$')\n",
        "plt.ylabel('Value')\n",
        "plt.title(r'Comparison of $\\sqrt{\\frac{-E}{E+1}}$ and $\\tan(\\sqrt{2(E+1)})$ for $E \\in (-1, 0)$')\n",
        "plt.legend()\n",
        "plt.grid(True)\n",
        "plt.tight_layout()\n",
        "plt.show()"
      ]
    },
    {
      "cell_type": "code",
      "execution_count": null,
      "metadata": {
        "id": "FSO3L4sAZPIS"
      },
      "outputs": [],
      "source": []
    },
    {
      "cell_type": "markdown",
      "metadata": {
        "id": "lNynNd42ZPIS"
      },
      "source": [
        "---\n",
        "\n",
        "## Problem 4\n",
        "Suppose Alex quit programming and decided to become an apple (fruit) shop owner. Alex buys 1000 apples every day and tries to sell them. The probability that $k$ customers want Alex's apples (one each) is given by the Poisson distribution:\n",
        "\n",
        "$$\n",
        "    P(k; \\lambda) = \\frac{\\lambda^k \\exp(-\\lambda)}{k!}\n",
        "$$\n",
        "\n",
        "Where $\\lambda$ is a parameter that represents the mean number of people who want Alex's apples each day.\n",
        "\n",
        "After selling apples for 2000 days, Alex found that all 1000 apples were sold out on 600 days out of 2000 days.\n",
        "\n",
        "The goal for this problem is to figure out how Alex should change the number of apples bought each day.\n",
        "\n",
        "- In case you are curious: https://en.wikipedia.org/wiki/Poisson_distribution. The true distribution of this selling apple process should be binomial distribution, but with a large enough number of customers and a low enough probability of an individual buying an apple, this is an excellent approximation."
      ]
    },
    {
      "cell_type": "markdown",
      "metadata": {
        "collapsed": true,
        "id": "Mcfv4sYlZPIT"
      },
      "source": [
        "4.1) You may find that if you try to code the Poisson distribution directly, it will not work with large numbers.\n",
        "$$\n",
        "    P(k; \\lambda) = \\frac{\\lambda^k \\exp(-\\lambda)}{k!}\n",
        "$$\n",
        "\n",
        "Explain briefly why Python complains when Alex tries to compute this for large $k$ and $\\lambda$."
      ]
    },
    {
      "cell_type": "code",
      "execution_count": null,
      "metadata": {
        "collapsed": true,
        "id": "YHrBR1NvZPIT"
      },
      "outputs": [],
      "source": [
        "import math\n",
        "\n",
        "def bad_poisson(lmd, k):\n",
        "\treturn pow(lmd, k) * math.exp(-lmd) / math.factorial(k)\n",
        "\n",
        "# bad_poisson(1000, 1000)  # Uncomment to see it breaks"
      ]
    },
    {
      "cell_type": "markdown",
      "metadata": {
        "id": "q0VadLYYZPIT"
      },
      "source": [
        "4.2) A very useful trick to avoid this problem is to take the logarithm of the Poisson formula and then exponentiate. That is,\n",
        "\n",
        "$$\n",
        "    P(k; \\lambda) = \\exp\\left( \\ln \\left[ \\frac{\\lambda^k \\exp(-\\lambda)}{k!} \\right] \\right)\n",
        "$$\n",
        "\n",
        "First, show that\n",
        "$$\n",
        "    \\ln(P(k; \\lambda)) = (\\ldots \\ln(\\ldots)-\\ldots)-\\ln(k!)\n",
        "$$\n",
        "\n",
        "Write out the steps to derive this result from the original formula."
      ]
    },
    {
      "cell_type": "code",
      "execution_count": null,
      "metadata": {
        "collapsed": true,
        "id": "EeK0IEQ3ZPIT"
      },
      "outputs": [],
      "source": []
    },
    {
      "cell_type": "markdown",
      "metadata": {
        "id": "CpJHfzknZPIT"
      },
      "source": [
        "4.3) The term $\\ln(k!)$ appears frequently in mathematics and statistics. Most math libraries provide a fast way to compute this using the `lgamma` function, which gives $\\ln((k-1)!)$.\n",
        "\n",
        "For example:\n",
        "\n",
        "`math.lgamma(5) == math.log(math.factorial(4))`\n",
        "\n",
        "Your task: Implement $P(k; \\lambda)$ using the log-exp trick described above, and use `math.lgamma` to handle the factorial term efficiently.\n",
        "\n",
        "If you do it correctly, you should find $P(k=1000; \\lambda=1000) \\approx 0.0126146$."
      ]
    },
    {
      "cell_type": "code",
      "execution_count": null,
      "metadata": {
        "collapsed": true,
        "id": "vbOn-dFzZPIT"
      },
      "outputs": [],
      "source": []
    },
    {
      "cell_type": "markdown",
      "metadata": {
        "id": "k3KJ-5czZPIT"
      },
      "source": [
        "4.4) Now for a practical challenge. Suppose $\\lambda = 987.6$ (note: this is just an example value). Find the probability that Alex will sell all 1000 apples in a day. (Remember, if 1000 or more people want Alex's apples, all apples will be sold out.)\n",
        "\n",
        "Hint: You do not need to sum the Poisson probabilities to infinity—find a practical way to compute this probability efficiently."
      ]
    },
    {
      "cell_type": "code",
      "execution_count": null,
      "metadata": {
        "id": "JYsZ2cHpZPIU"
      },
      "outputs": [],
      "source": [
        ""
      ]
    },
    {
      "cell_type": "markdown",
      "metadata": {
        "id": "v5EX43i9ZPIU"
      },
      "source": [
        "4.5) Recall the information:\n",
        "\n",
        "After selling apples for 2000 days, Alex found that all 1000 apples were sold out on 600 days out of 2000 days.\n",
        "\n",
        "Estimate the value of $\\lambda$ (the average number of customers per day) to a reasonable accuracy ($<\\pm 0.1$) that matches this observation."
      ]
    },
    {
      "cell_type": "code",
      "execution_count": null,
      "metadata": {
        "collapsed": true,
        "id": "mmXQQLw3ZPIU"
      },
      "outputs": [],
      "source": []
    },
    {
      "cell_type": "markdown",
      "metadata": {
        "id": "hD2orqqnZPIU"
      },
      "source": [
        "4.6) Using the $\\lambda$ you found in 4.5:\n",
        "\n",
        "Alex buys apples for 20 Baht each and sells them for 50 Baht each. This means Alex makes a profit of 30 Baht for every apple sold. At the end of each day, any unsold apples are thrown away, resulting in a loss of 20 Baht per unsold apple.\n",
        "\n",
        "If Alex buys 1000 apples a day, what would be his expected profit? (Remember to use the concept of expected value from discrete math/statistics.)"
      ]
    },
    {
      "cell_type": "code",
      "execution_count": null,
      "metadata": {
        "collapsed": true,
        "id": "MLhUWGrQZPIU"
      },
      "outputs": [],
      "source": []
    },
    {
      "cell_type": "markdown",
      "metadata": {
        "id": "hn_RSa5lZPIU"
      },
      "source": [
        "4.7) Using the $\\lambda$ you found in 4.5, determine the optimal number of apples Alex should buy each day to maximize expected profit."
      ]
    },
    {
      "cell_type": "code",
      "execution_count": null,
      "metadata": {
        "collapsed": true,
        "id": "IFZrUutdZPIU"
      },
      "outputs": [],
      "source": []
    },
    {
      "cell_type": "markdown",
      "metadata": {
        "id": "lzbUq0jkZPIU"
      },
      "source": [
        "---\n",
        "\n",
        "## Problem 5\n",
        "\n",
        "Full Width at Half Maximum (FWHM) is an important measure of distribution width. It tells you how wide a distribution is at half of its maximum value. FWHM is commonly used in physics, statistics, and signal processing to characterize the spread of a peak or distribution.\n",
        "\n",
        "For example, consider the distribution shown below, where the maximum occurs at $x = 0.0$ and $y = 1.0$.\n",
        "\n",
        "The maximum value of this distribution is 1.0, so we are interested in the width of the distribution where its value is $1.0/2 = 0.5$.\n",
        "\n",
        "The FWHM is illustrated by the black line in the plot. In this case, it's about 2.35 units wide.\n",
        "\n",
        "Your tasks in this problem will involve calculating and analyzing the FWHM for different functions and parameters."
      ]
    },
    {
      "cell_type": "code",
      "execution_count": null,
      "metadata": {
        "id": "_URhwF7pZPIU",
        "outputId": "645612d4-137f-4c35-85fa-579fbd3c9e16"
      },
      "outputs": [
        {
          "data": {
            "text/plain": [
              "Text(0, 0.3, 'FWHM')"
            ]
          },
          "execution_count": 15,
          "metadata": {},
          "output_type": "execute_result"
        },
        {
          "data": {
            "image/png": "[encoded data removed]",
            "text/plain": [
              "<Figure size 640x480 with 1 Axes>"
            ]
          },
          "metadata": {},
          "output_type": "display_data"
        }
      ],
      "source": [
        "import math\n",
        "\n",
        "def demo(x):\n",
        "\treturn math.exp(-x**2 / 2.0)\n",
        "\n",
        "# Generate data\n",
        "x = np.linspace(-3, 3)\n",
        "y = [demo(xx) for xx in x]\n",
        "\n",
        "# Plot the distribution\n",
        "plt.plot(x, y)\n",
        "plt.axhline(0.5, color='red')\n",
        "plt.axvline(2.355 / 2, color='red', linestyle='dashed')\n",
        "plt.axvline(-2.355 / 2, color='red', linestyle='dashed')\n",
        "plt.grid()\n",
        "plt.annotate('', xy=(-2.355 / 2, 0.4), xycoords='data', xytext=(2.355 / 2, 0.4), textcoords='data', arrowprops={'arrowstyle': '<->'})\n",
        "plt.text(0, 0.3, 'FWHM', horizontalalignment='center')"
      ]
    },
    {
      "cell_type": "markdown",
      "metadata": {
        "id": "FW3Ls8toZPIV"
      },
      "source": [
        "5.1) Find the FWHM (full width at half maximum) of the following function:\n",
        "\n",
        "$$\n",
        "    f(x, \\gamma) = \\frac{\\gamma}{(x - \\mu)^2 + \\gamma^2}\n",
        "$$\n",
        "where $\\mu = 2.345$ and $\\gamma = 3.1$.\n",
        "\n",
        "Make sure your answer for the FWHM has an error less than $10^{-4}$."
      ]
    },
    {
      "cell_type": "code",
      "execution_count": null,
      "metadata": {
        "id": "A0OOsl0LZPIV",
        "outputId": "0fecb7cc-3322-4324-d05d-abbcdc85f004"
      },
      "outputs": [
        {
          "data": {
            "image/png": "[encoded data removed]",
            "text/plain": [
              "<Figure size 640x480 with 1 Axes>"
            ]
          },
          "metadata": {},
          "output_type": "display_data"
        }
      ],
      "source": [
        "import math\n",
        "\n",
        "def f(x, gamma=3.1):\n",
        "\tmu = 2.345\n",
        "\treturn gamma / ((x - mu) ** 2 + gamma ** 2)\n",
        "\n",
        "# Generate data\n",
        "x = np.linspace(-10, 10, 200)\n",
        "y = [f(xx) for xx in x]\n",
        "\n",
        "# Plot the function\n",
        "\n",
        "plt.plot(x, y)\n",
        "plt.xlabel('x')\n",
        "plt.ylabel('f(x)')\n",
        "plt.title('Plot of f(x, gamma=3.1)')\n",
        "plt.grid(True)"
      ]
    },
    {
      "cell_type": "markdown",
      "metadata": {
        "id": "I-4eSl20ZPIV"
      },
      "source": [
        "5.2) Plot the FWHM (y-axis) as a function of $\\gamma$ for the function $f(x, \\gamma)$, where $\\gamma$ ranges from $0.5$ to $3.0$. Make sure your plot includes at least 30 points for $\\gamma$ values."
      ]
    },
    {
      "cell_type": "code",
      "execution_count": null,
      "metadata": {
        "id": "OVQfzEhiZPIV"
      },
      "outputs": [],
      "source": [
        "print(f(1.0, gamma=0.2)) # you may find this useful"
      ]
    },
    {
      "cell_type": "markdown",
      "metadata": {
        "collapsed": true,
        "id": "9Qr2vK48ZPIV"
      },
      "source": [
        "5.3) (Optional) Prove the mathematical relationship between FWHM and $\\gamma$ for the function $f(x, \\gamma)$. Show your derivation and explain why the FWHM depends on $\\gamma$ in the way observed in your plot from 5.2."
      ]
    },
    {
      "cell_type": "code",
      "execution_count": null,
      "metadata": {
        "collapsed": true,
        "id": "NtDvI06EZPIV"
      },
      "outputs": [],
      "source": []
    }
  ],
  "metadata": {
    "kernelspec": {
      "display_name": "iccs-205-numerical-computation-hw-N4xcADG0-py3.12",
      "language": "python",
      "name": "python3"
    },
    "language_info": {
      "codemirror_mode": {
        "name": "ipython",
        "version": 3
      },
      "file_extension": ".py",
      "mimetype": "text/x-python",
      "name": "python",
      "nbconvert_exporter": "python",
      "pygments_lexer": "ipython3",
      "version": "3.12.11"
    },
    "toc": {
      "colors": {
        "hover_highlight": "#DAA520",
        "running_highlight": "#FF0000",
        "selected_highlight": "#FFD700"
      },
      "moveMenuLeft": true,
      "nav_menu": {
        "height": "30px",
        "width": "252px"
      },
      "navigate_menu": true,
      "number_sections": false,
      "sideBar": true,
      "threshold": 4,
      "toc_cell": false,
      "toc_section_display": "block",
      "toc_window_display": false
    },
    "colab": {
      "provenance": []
    }
  },
  "nbformat": 4,
  "nbformat_minor": 0
}